{
 "cells": [
  {
   "cell_type": "code",
   "execution_count": 2,
   "id": "2359b262",
   "metadata": {},
   "outputs": [
    {
     "name": "stdout",
     "output_type": "stream",
     "text": [
      "Introduce un numero7\n",
      "El numero es impar\n"
     ]
    }
   ],
   "source": [
    "#1\n",
    "num =int(input(\"Introduce un numero\"))\n",
    "if num ==0:\n",
    "    print (\"El numero es 0\")\n",
    "elif num%2 == 0:\n",
    "    print (\"El numero es par\")\n",
    "else:\n",
    "    print (\"El numero es impar\")"
   ]
  },
  {
   "cell_type": "code",
   "execution_count": 4,
   "id": "0e96479f",
   "metadata": {},
   "outputs": [
    {
     "name": "stdout",
     "output_type": "stream",
     "text": [
      "Cual es tu nombre?mario\n",
      "introduce un adjetivofeliz\n",
      "Introduce otro adjetivofrio\n",
      "Mi nombre es mario y hoy me siento feliz porque el clima esta frio\n"
     ]
    }
   ],
   "source": [
    "#2 Mad libs game\n",
    "nombre = input(\"Cual es tu nombre?\")\n",
    "adjetivo = input(\"introduce un adjetivo\")\n",
    "adjetivo2= input(\"Introduce otro adjetivo\")\n",
    "\n",
    "print(\"Mi nombre es \" + nombre + \" y hoy me siento \" + adjetivo + \" porque el clima esta \" + adjetivo2 ) "
   ]
  },
  {
   "cell_type": "code",
   "execution_count": 5,
   "id": "38164039",
   "metadata": {},
   "outputs": [
    {
     "name": "stdout",
     "output_type": "stream",
     "text": [
      "Cuentame, que hiciste hoy...fui a la tienda y me atropellaron\n",
      "Lo que me contaste tiene 7 palabras.\n"
     ]
    }
   ],
   "source": [
    "#3 word count\n",
    "palabras = len(input(\"Cuentame, que hiciste hoy...\").split())\n",
    "print(\"Lo que me contaste tiene \" + str(palabras) + \" palabras.\")"
   ]
  },
  {
   "cell_type": "code",
   "execution_count": 12,
   "id": "ce169abf",
   "metadata": {},
   "outputs": [
    {
     "name": "stdout",
     "output_type": "stream",
     "text": [
      "Escribe tu nombre: Mario\n",
      "Ingresa tu edadsadwda\n",
      "Ese no es un nombre valido\n",
      "La edad no es valida, teclea solo numeros\n",
      "Escribe tu nombre: Mario\n",
      "Ingresa tu edad21\n"
     ]
    },
    {
     "data": {
      "text/plain": [
       "('Mario', 21)"
      ]
     },
     "execution_count": 12,
     "metadata": {},
     "output_type": "execute_result"
    }
   ],
   "source": [
    "#4 biography info\n",
    "def validacion():\n",
    "    while True:\n",
    "        nombre = input(\"Escribe tu nombre: \")\n",
    "        edad = input(\"Ingresa tu edad\")\n",
    "        try:\n",
    "            nombre = str(nombre)\n",
    "            edad = int(edad)\n",
    "            return nombre,edad\n",
    "        except ValueError:\n",
    "            print(\"Ese no es un nombre valido\")\n",
    "            print(\"La edad no es valida, teclea solo numeros\")\n",
    "validacion()"
   ]
  },
  {
   "cell_type": "code",
   "execution_count": 19,
   "id": "016b4b1c",
   "metadata": {},
   "outputs": [
    {
     "name": "stdout",
     "output_type": "stream",
     "text": [
      "Ingrese el nombre de una organizacion para conocer su acronimo asociacion de reprobados\n",
      " ASOCIACION DE REPROBADOS\n"
     ]
    }
   ],
   "source": [
    "#5 whats my Acronym\n",
    "texto = str(input(\"Ingrese el nombre de una organizacion para conocer su acronimo: \"))\n",
    "acronimo = texto.split()\n",
    "resp = \" \"\n",
    "\n",
    "for i in text:\n",
    "    resp = resp + str(i[0]).upper()\n",
    "    \n",
    "print(resp)\n"
   ]
  },
  {
   "cell_type": "code",
   "execution_count": 26,
   "id": "4fe657c6",
   "metadata": {},
   "outputs": [
    {
     "name": "stdout",
     "output_type": "stream",
     "text": [
      "1. Piedra\n",
      "2. Papel\n",
      "3. Tijera\n",
      "Elige una opcion3\n",
      "\n",
      " Elegiste  Tijera\n",
      "La Pc ha elegido  Piedra\n",
      "\n",
      "Perdiste, piedra rompe tijera\n"
     ]
    }
   ],
   "source": [
    "#6 rock, paper , scissors\n",
    "import random\n",
    "\n",
    "aleatorio = random.randrange(0,3)\n",
    "pc = \"\"\n",
    "print(\"1. Piedra\")\n",
    "print(\"2. Papel\")\n",
    "print(\"3. Tijera\")\n",
    "opc = int(input(\"Elige una opcion\"))\n",
    "\n",
    "if opc == 1:\n",
    "    usuario = \"Piedra\"\n",
    "elif opc == 2:\n",
    "        usuario = \"Papel\"\n",
    "elif opc == 3:\n",
    "        usuario = \"Tijera\"\n",
    "        \n",
    "print (\"\\n Elegiste \",usuario)\n",
    "\n",
    "if aleatorio == 0:\n",
    "    pc= \"Piedra\"\n",
    "elif aleatorio == 1:\n",
    "    pc= \"Papel\"\n",
    "elif aleatorio == 2:\n",
    "    pc = \"Tijera\"\n",
    "    \n",
    "print(\"La Pc ha elegido \", pc + \"\\n\")\n",
    "\n",
    "if pc == \"Piedra\" and usuario == \"Papel\":\n",
    "    print(\"Ganaste, papel envuelve piedra\")\n",
    "elif pc == \"Papel\" and usuario == \"Tijera\":\n",
    "    print(\"Ganaste, Tijera corta papel\")\n",
    "elif pc == \"Tijera\" and usuario == \"Piedra\":\n",
    "    print(\"Ganaste, piedra rompe tijeras\")    \n",
    "if pc == \"Papel\" and usuario == \"Piedra\":\n",
    "    print(\"Perdiste, papel envuelve piedra\")\n",
    "elif pc == \"Tijera\" and usuario == \"papel\":\n",
    "    print(\"Perdiste, Tijera corta papel\")\n",
    "elif pc == \"Piedra\" and usuario == \"Tijera\":\n",
    "    print(\"Perdiste, piedra rompe tijera\")\n",
    "elif pc == usuario:\n",
    "    print(\"Empataron\")"
   ]
  },
  {
   "cell_type": "code",
   "execution_count": 28,
   "id": "28f3740c",
   "metadata": {},
   "outputs": [
    {
     "name": "stdout",
     "output_type": "stream",
     "text": [
      "Digite un numero entre el  al 50 para adivinar el numero aleatorio 5\n",
      "19\n",
      "Siga intentando\n",
      "Desea seguir intentando adiviar el numero? \n",
      "1 - si \n",
      "2 - No1\n",
      "Digite un numero entre el  al 50 para adivinar el numero aleatorio 18\n",
      "19\n",
      "Siga intentando\n",
      "Desea seguir intentando adiviar el numero? \n",
      "1 - si \n",
      "2 - No1\n",
      "Digite un numero entre el  al 50 para adivinar el numero aleatorio 19\n",
      "19\n",
      "Felicidades, adivinaste el numero aleatorio\n",
      "\n",
      " El numero aleatorio fue: 19\n"
     ]
    }
   ],
   "source": [
    "#7 Guess the number\n",
    "import random\n",
    "aleatorio = random.randrange(1,50)\n",
    "opc = 1\n",
    "\n",
    "while opc == 1:\n",
    "    num = int(input(\"Digite un numero entre el 1 al 50 para adivinar el numero aleatorio \"))\n",
    "    print(aleatorio)\n",
    "    if num == aleatorio:\n",
    "        print(\"Felicidades, adivinaste el numero aleatorio\")\n",
    "        print(\"\\n El numero aleatorio fue: \" + str(aleatorio))\n",
    "        opc = \"2\"\n",
    "    else:\n",
    "        print(\"Siga intentando\")\n",
    "        opc = int(input(\"Desea seguir intentando adiviar el numero? \\n1 - si \\n2 - No\"))\n",
    "        \n",
    "        if opc == 2:\n",
    "            print(\"El numero aleatorio era: \" + str(aleatorio))"
   ]
  },
  {
   "cell_type": "code",
   "execution_count": 29,
   "id": "e209e320",
   "metadata": {},
   "outputs": [
    {
     "name": "stdout",
     "output_type": "stream",
     "text": [
      "Bienvenido a mi programa, a continuacion se le solicitara que ingrese cinco palabras.\n",
      "\n",
      "Ingrese la primera palabra: ana\n",
      "\n",
      "Ingrese la segunda palabra: coco\n",
      "\n",
      "Ingrese la tercera palabra: somos\n",
      "\n",
      "Ingrese la cuarta palabra: agua\n",
      "Ingrese la quinta palabra: arbol\n",
      "\n",
      "ana es un palindromo\n",
      "coco no es un palindromo\n",
      "somos es un palindromo\n",
      "agua no es un palindromo\n",
      "arbol no es un palindromo\n"
     ]
    }
   ],
   "source": [
    "#8 Is a palindrome\n",
    "print(\"Bienvenido a mi programa, a continuacion se le solicitara que ingrese cinco palabras.\")\n",
    "w1 = input(\"\\nIngrese la primera palabra: \")\n",
    "w2 = input(\"\\nIngrese la segunda palabra: \")\n",
    "w3 = input(\"\\nIngrese la tercera palabra: \")\n",
    "w4 = input(\"\\nIngrese la cuarta palabra: \")\n",
    "w5 = input(\"Ingrese la quinta palabra: \")\n",
    "\n",
    "if w1 == w1[::-1]:\n",
    "    print(\"\\n\" + w1 + \" es un palindromo\")\n",
    "else:\n",
    "    print(w1 + \" no es un palindromo\")\n",
    "if w2 == w2[::-1]:\n",
    "    print(w2 + \" es un palindromo\")\n",
    "else:\n",
    "    print(w2 + \" no es un palindromo\")\n",
    "if w3 == w3[::-1]:\n",
    "    print(w3 + \" es un palindromo\")\n",
    "else:\n",
    "    print(w3 + \" no es un palindromo\")\n",
    "if w4 == w4[::-1]:\n",
    "    print(w4 + \" es un palindromo.\")\n",
    "else:\n",
    "    print(w4 + \" no es un palindromo\")\n",
    "if w5 == w5[::-1]:\n",
    "    print(w5 + \" es un palindromo\")\n",
    "else:\n",
    "    print(w5 + \" no es un palindromo\")"
   ]
  },
  {
   "cell_type": "code",
   "execution_count": 31,
   "id": "02b12585",
   "metadata": {},
   "outputs": [
    {
     "name": "stdout",
     "output_type": "stream",
     "text": [
      "Cual es el total de la factura? 1200\n",
      "Cuantas personas son? 5\n",
      "La propina al 18% es de 216.0  en total seria: 1416.0\n",
      "La propina al 20% es de 240.0  en total seria: 1440.0\n",
      "La propina al 25% es de 300.0  en total seria: 1500.0\n",
      "Para la propina al 18% a cada uno le tocaria de: 283.2\n",
      "Para la propina al 20% a cada uno le tocaria de: 288.0\n",
      "Para la propina al 25% a cada uno le tocaria de: 300.0\n"
     ]
    }
   ],
   "source": [
    "#9 calculate the tip\n",
    "total = float(input(\"Cual es el total de la factura? \"))\n",
    "personas = int(input(\"Cuantas personas son? \"))\n",
    "propina18 = float(total * .18)\n",
    "propina20 = float(total * .20)\n",
    "propina25 = float(total * .25)\n",
    "\n",
    "print(\"La propina al 18% es de \" + str(propina18), \" en total seria: \" + str(total+propina18))\n",
    "print(\"La propina al 20% es de \" + str(propina20), \" en total seria: \" + str(total+propina20))\n",
    "print(\"La propina al 25% es de \" + str(propina25), \" en total seria: \" + str(total+propina25))\n",
    "\n",
    "tip18_per = (total + propina18)/personas\n",
    "tip20_per = (total + propina20)/personas\n",
    "tip25_per = (total + propina25)/personas\n",
    "\n",
    "print(\"Para la propina al 18% a cada uno le tocaria de: \" + str(tip18_per))\n",
    "print(\"Para la propina al 20% a cada uno le tocaria de: \" + str(tip20_per))\n",
    "print(\"Para la propina al 25% a cada uno le tocaria de: \" + str(tip25_per))"
   ]
  },
  {
   "cell_type": "code",
   "execution_count": 32,
   "id": "8a85b132",
   "metadata": {},
   "outputs": [
    {
     "name": "stdout",
     "output_type": "stream",
     "text": [
      "Cual es su correo electronico? mario264@gmail.com\n",
      "Tu nombre de usuario es '@' y tu dominio es 'gmail.com'\n"
     ]
    }
   ],
   "source": [
    "#10 Email slicer\n",
    "correo = input(\"Cual es su correo electronico? \").strip()\n",
    "usuario = correo[correo.index(\"@\")]\n",
    "dominio = correo[correo.index(\"@\") + 1:]\n",
    "output = \"Tu nombre de usuario es '{}' y tu dominio es '{}'\".format(usuario, dominio)\n",
    "print (output)"
   ]
  },
  {
   "cell_type": "code",
   "execution_count": 34,
   "id": "62d2b005",
   "metadata": {},
   "outputs": [
    {
     "name": "stdout",
     "output_type": "stream",
     "text": [
      "Selecciona el numero de la cancion para conocer su letra \n",
      "1.- Pain of love \n",
      "2Fahr mit mir \n",
      "3.- Bad love \n",
      "4.- Dogs unleashed \n",
      "5.- Gyal you a party animals 1\n",
      "\n",
      " The pain of love \n",
      " Won't break us up \n",
      " We don't need your salvation \n",
      "The pain of love \n",
      "Will never stop \n",
      " We are our own creation\n"
     ]
    }
   ],
   "source": [
    "opc = int(input(\"Selecciona el numero de la cancion para conocer su letra \\n1.- Pain of love \\n2Fahr mit mir \\n3.- Bad love \\n4.- Dogs unleashed \\n5.- Gyal you a party animals \"))\n",
    "if opc == 1:\n",
    "    print(\"\\n The pain of love \\n Won't break us up \\n We don't need your salvation \\nThe pain of love \\nWill never stop \\n We are our own creation\")\n",
    "elif opc == 2:\n",
    "        print(\"\\nDas mit den'n und mit mir\\nDas wird in diesem Leben nicht mehr funktionier'n\\nZu viel Streit\\nZu viel Streit in der Vergangenheit über die Vergangenheit\\nEs tut mir leid\\nEtwas mit Heimatministerium kann für mich keine Heimat sein\")\n",
    "elif opc == 3:\n",
    "        print(\"\\nI'm back at the start\\nI'm all out of the luck\\n'Cause all that I got is another bad love\\nI'm falling apart\\nIt's keeping me up\\nCause all that I got is another bad love\")\n",
    "elif opc == 4:\n",
    "        print(\"\\nDon't wanna run on your command\\nDon't wanna keep on coming back\\nDon't wanna swallow all your lies\\nWanna feel alive.\")\n",
    "elif opc == 5:\n",
    "        print(\"\\nMy girl come flip it like a Flipagram\\nFlip it like a Flipagram\\nGyal whine up pon mi body gyal\\nWhine like it's a carnival\\nGyal me love the way how you whine for me\\nGyal your whine is so emotional\")"
   ]
  },
  {
   "cell_type": "code",
   "execution_count": null,
   "id": "73031169",
   "metadata": {},
   "outputs": [],
   "source": []
  }
 ],
 "metadata": {
  "kernelspec": {
   "display_name": "Python 3 (ipykernel)",
   "language": "python",
   "name": "python3"
  },
  "language_info": {
   "codemirror_mode": {
    "name": "ipython",
    "version": 3
   },
   "file_extension": ".py",
   "mimetype": "text/x-python",
   "name": "python",
   "nbconvert_exporter": "python",
   "pygments_lexer": "ipython3",
   "version": "3.10.8"
  }
 },
 "nbformat": 4,
 "nbformat_minor": 5
}
